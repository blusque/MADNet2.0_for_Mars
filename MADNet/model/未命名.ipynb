{
 "cells": [
  {
   "cell_type": "code",
   "execution_count": null,
   "id": "ed89251f",
   "metadata": {},
   "outputs": [],
   "source": [
    "import torch\n",
    "import torch.nn as nn\n",
    "\n",
    "class MergeLayer(nn.Module):\n",
    "    \"\"\"merge input height with image\"\"\"\n",
    "    \n",
    "    def __init__(self, in_channels, out_channels):\n",
    "        super(MergeLayer, self).__init__()\n",
    "        self.h_layer = nn.Sequential(\n",
    "            nn.Conv2d(in_channels, out_channels, kernel_size=3, stride=1, padding=1),\n",
    "            nn.LeakyReLU(1e-2)\n",
    "        )\n",
    "        self.i_layer = nn.Sequential(\n",
    "            nn.Conv2d(in_channels, out_channels, kernel_size=3, stride=1, padding=1),\n",
    "            nn.LeakyReLU(1e-2)\n",
    "        )\n",
    "        \n",
    "    def forward(self, x_h, x_i):\n",
    "        output_h = self.h_layer(x_h)\n",
    "        output_i = self.i_layer(x_i)\n",
    "        output = torch.cat((output_h, output_i), 1)\n",
    "        return output\n",
    "    \n",
    "ml = MergeLayer(1, 64)\n",
    "xh = torch.randn(1, 1, 256, 256)\n",
    "xi = torch.randn(1, 1, 256, 256)\n",
    "output = ml(xh, xi)\n",
    "output.shape"
   ]
  },
  {
   "cell_type": "code",
   "execution_count": null,
   "id": "b24f2dc6",
   "metadata": {},
   "outputs": [],
   "source": [
    "class ConvBlock_(nn.Module):\n",
    "    \"\"\"Conv(3x3)-BN-LReLU\"\"\"\n",
    "    \n",
    "    def __init__(self, in_channels, out_channels, stride=1):\n",
    "        super(ConvBlock_, self).__init__()\n",
    "        self.conv = nn.Sequential(\n",
    "            nn.Conv2d(in_channels, out_channels, kernel_size=3, stride=stride, padding=1),\n",
    "            nn.BatchNorm2d(out_channels),\n",
    "            nn.LeakyReLU(1e-2)\n",
    "        )\n",
    "        \n",
    "    def forward(self, x):\n",
    "        output = self.conv(x)\n",
    "        return output\n",
    "    \n",
    "input = torch.randn(1, 64, 256, 256)\n",
    "conv = ConvBlock_(64, 64, stride=2)\n",
    "output = conv(input)\n",
    "output.shape"
   ]
  },
  {
   "cell_type": "code",
   "execution_count": null,
   "id": "18734c64",
   "metadata": {},
   "outputs": [],
   "source": [
    "class Discriminator(nn.Module):\n",
    "    \"\"\"Height Layer + Image Layer-BN\"\"\"\n",
    "    \n",
    "    def __init__(self):\n",
    "        super(Discriminator, self).__init__()\n",
    "        self.merge = MergeLayer(1, 64)\n",
    "        self.convs = nn.Sequential(\n",
    "            ConvBlock_(128, 64),\n",
    "            ConvBlock_(64, 64, 2),\n",
    "            ConvBlock_(64, 128),\n",
    "            ConvBlock_(128, 128, 2),\n",
    "            ConvBlock_(128, 256),\n",
    "            ConvBlock_(256, 256, 2),\n",
    "            ConvBlock_(256, 512),\n",
    "            ConvBlock_(512, 512, 2)\n",
    "        )\n",
    "        self.fc1 = nn.Linear(512 * 16 * 16, 200)\n",
    "        self.lrelu = nn.LeakyReLU(1e-2)\n",
    "        self.fc2 = nn.Linear(200, 1)\n",
    "        self.sigmoid = nn.Sigmoid()\n",
    "        \n",
    "    def forward(self, x_h, x_i):\n",
    "        merged = self.merge(x_h, x_i)\n",
    "        print(merged.shape)\n",
    "        output = self.convs(merged)\n",
    "        \n",
    "        output = output.view(-1, 512 * 16 * 16)\n",
    "        print(output.shape)\n",
    "        vector1 = self.fc1(output)\n",
    "        relu = self.lrelu(vector1)\n",
    "        vector2 = self.fc2(relu)\n",
    "        scalar = self.sigmoid(vector2)\n",
    "        return scalar\n",
    "    \n",
    "input1 = torch.randn(16, 1, 256, 256)\n",
    "input2 = torch.randn(16, 1, 256, 256)\n",
    "dis = Discriminator()\n",
    "output = dis(input1, input2)\n",
    "output"
   ]
  },
  {
   "cell_type": "code",
   "execution_count": 27,
   "id": "f96447f8",
   "metadata": {},
   "outputs": [
    {
     "name": "stdout",
     "output_type": "stream",
     "text": [
      "[[0.17855258 0.04707576 0.80932265 0.0092098 ]\n",
      " [0.39694728 0.47163023 0.6495401  0.66876157]\n",
      " [0.09401776 0.97873243 0.76055761 0.10868372]\n",
      " [0.35100421 0.21256217 0.74356919 0.92948081]]\n",
      "[[ 0.2183947   0.42455447 -0.15978255  0.65955177]\n",
      " [-0.04226741  0.46582833 -0.02438252  0.04973696]\n",
      " [-0.02297154 -0.12953403  0.04701454  0.13035962]\n",
      " [ 0.25698645 -0.76617025 -0.01698841  0.82079709]]\n",
      "[[-0.13147682  0.31538503 -0.01893298 -0.80011285]\n",
      " [ 0.07468295  0.12629641  0.09856567  0.01922147]\n",
      " [ 0.88471466  0.33326992 -0.43502435 -0.65187388]\n",
      " [-0.13844203  0.19628249  0.35845932  0.18591162]]\n",
      "tensor([[[0.1786, 0.0471, 0.8093, 0.0092],\n",
      "         [0.3969, 0.4716, 0.6495, 0.6688],\n",
      "         [0.0940, 0.9787, 0.7606, 0.1087],\n",
      "         [0.3510, 0.2126, 0.7436, 0.9295]]])\n",
      "tensor([[[[ 0.0000,  0.0000,  0.0000],\n",
      "          [-0.5000,  0.0000,  0.5000],\n",
      "          [ 0.0000,  0.0000,  0.0000]]]])\n",
      "tensor([[[ 0.0235,  0.3154, -0.0189, -0.4047],\n",
      "         [ 0.2358,  0.1263,  0.0986, -0.3248],\n",
      "         [ 0.4894,  0.3333, -0.4350, -0.3803],\n",
      "         [ 0.1063,  0.1963,  0.3585, -0.3718]]])\n"
     ]
    }
   ],
   "source": [
    "import torch\n",
    "import torch.nn.functional as F\n",
    "import numpy as np\n",
    "gt = np.random.uniform(0.0, 1.0, (4, 4))\n",
    "print(gt)\n",
    "dx, dy = np.gradient(gt)\n",
    "print(dx)\n",
    "print(dy)\n",
    "gt = torch.tensor(gt.copy(), dtype=torch.float32)\n",
    "gt.unsqueeze_(0)\n",
    "print(gt)\n",
    "sobel_x = torch.tensor([[[[0, 0, 0], [-0.5, 0, 0.5], [0, 0, 0]]]], dtype=torch.float32)\n",
    "print(sobel_x)\n",
    "grad_gt_x = F.conv2d(gt, sobel_x, stride=1, padding=1)\n",
    "print(grad_gt_x)"
   ]
  },
  {
   "cell_type": "code",
   "execution_count": 18,
   "id": "92678466",
   "metadata": {},
   "outputs": [
    {
     "name": "stdout",
     "output_type": "stream",
     "text": [
      "[[ 0.0375864   0.0888039  -0.25577957  0.16786481]\n",
      " [-0.17382783  0.0219375  -0.01411217  0.00683028]\n",
      " [-0.27937991  0.24345719 -0.03643394 -0.16174511]\n",
      " [-0.17351774  0.53184328 -0.30042312 -0.16928597]]\n",
      "[[-0.57638603 -0.06348117  0.08432007 -0.28078356]\n",
      " [-0.52516854 -0.21016415  0.12385053  0.14286082]\n",
      " [-0.18485537  0.0962345   0.06921285 -0.23889866]\n",
      " [ 0.52050565  0.03278181 -0.28135177 -0.10776151]]\n"
     ]
    }
   ],
   "source": [
    "import numpy as np\n",
    "gt = np.random.uniform(0.0, 1.0, (4, 4))\n",
    "print(gt)\n",
    "dx, dy = np.gradient(gt)\n",
    "print(dx)\n",
    "print(dy)"
   ]
  },
  {
   "cell_type": "code",
   "execution_count": 2,
   "id": "fc8dffc3",
   "metadata": {},
   "outputs": [
    {
     "name": "stdout",
     "output_type": "stream",
     "text": [
      "1 2 3 4\n"
     ]
    }
   ],
   "source": [
    "def func(a, b, *, c, d):\n",
    "  print(a, b, c, d)\n",
    "  \n",
    "func(1, 2, c=3, d=4)"
   ]
  },
  {
   "cell_type": "code",
   "execution_count": null,
   "id": "b545e000",
   "metadata": {},
   "outputs": [],
   "source": [
    "a = np.random.uniform(low=0.0, high=1.0, size=(4, 4))"
   ]
  }
 ],
 "metadata": {
  "kernelspec": {
   "display_name": "pytorch",
   "language": "python",
   "name": "python3"
  },
  "language_info": {
   "codemirror_mode": {
    "name": "ipython",
    "version": 3
   },
   "file_extension": ".py",
   "mimetype": "text/x-python",
   "name": "python",
   "nbconvert_exporter": "python",
   "pygments_lexer": "ipython3",
   "version": "3.10.8 | packaged by conda-forge | (main, Nov 24 2022, 14:07:00) [MSC v.1916 64 bit (AMD64)]"
  },
  "vscode": {
   "interpreter": {
    "hash": "71342f419acc3ba6ae382518c4ba2a9e6f9bd8751a76a463bc8e77674675b221"
   }
  }
 },
 "nbformat": 4,
 "nbformat_minor": 5
}
