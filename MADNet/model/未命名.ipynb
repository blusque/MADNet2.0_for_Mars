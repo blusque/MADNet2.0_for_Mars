{
 "cells": [
  {
   "cell_type": "code",
   "execution_count": 3,
   "id": "ed89251f",
   "metadata": {},
   "outputs": [
    {
     "data": {
      "text/plain": [
       "torch.Size([1, 128, 256, 256])"
      ]
     },
     "execution_count": 3,
     "metadata": {},
     "output_type": "execute_result"
    }
   ],
   "source": [
    "import torch\n",
    "import torch.nn as nn\n",
    "\n",
    "class MergeLayer(nn.Module):\n",
    "    \"\"\"merge input height with image\"\"\"\n",
    "    \n",
    "    def __init__(self, in_channels, out_channels):\n",
    "        super(MergeLayer, self).__init__()\n",
    "        self.h_layer = nn.Sequential(\n",
    "            nn.Conv2d(in_channels, out_channels, kernel_size=3, stride=1, padding=1),\n",
    "            nn.LeakyReLU(1e-2)\n",
    "        )\n",
    "        self.i_layer = nn.Sequential(\n",
    "            nn.Conv2d(in_channels, out_channels, kernel_size=3, stride=1, padding=1),\n",
    "            nn.LeakyReLU(1e-2)\n",
    "        )\n",
    "        \n",
    "    def forward(self, x_h, x_i):\n",
    "        output_h = self.h_layer(x_h)\n",
    "        output_i = self.i_layer(x_i)\n",
    "        output = torch.cat((output_h, output_i), 1)\n",
    "        return output\n",
    "    \n",
    "ml = MergeLayer(1, 64)\n",
    "xh = torch.randn(1, 1, 256, 256)\n",
    "xi = torch.randn(1, 1, 256, 256)\n",
    "output = ml(xh, xi)\n",
    "output.shape"
   ]
  },
  {
   "cell_type": "code",
   "execution_count": 4,
   "id": "b24f2dc6",
   "metadata": {},
   "outputs": [
    {
     "data": {
      "text/plain": [
       "torch.Size([1, 64, 128, 128])"
      ]
     },
     "execution_count": 4,
     "metadata": {},
     "output_type": "execute_result"
    }
   ],
   "source": [
    "class ConvBlock_(nn.Module):\n",
    "    \"\"\"Conv(3x3)-BN-LReLU\"\"\"\n",
    "    \n",
    "    def __init__(self, in_channels, out_channels, stride=1):\n",
    "        super(ConvBlock_, self).__init__()\n",
    "        self.conv = nn.Sequential(\n",
    "            nn.Conv2d(in_channels, out_channels, kernel_size=3, stride=stride, padding=1),\n",
    "            nn.BatchNorm2d(out_channels),\n",
    "            nn.LeakyReLU(1e-2)\n",
    "        )\n",
    "        \n",
    "    def forward(self, x):\n",
    "        output = self.conv(x)\n",
    "        return output\n",
    "    \n",
    "input = torch.randn(1, 64, 256, 256)\n",
    "conv = ConvBlock_(64, 64, stride=2)\n",
    "output = conv(input)\n",
    "output.shape"
   ]
  },
  {
   "cell_type": "code",
   "execution_count": 16,
   "id": "18734c64",
   "metadata": {},
   "outputs": [
    {
     "name": "stdout",
     "output_type": "stream",
     "text": [
      "torch.Size([16, 128, 256, 256])\n",
      "torch.Size([16, 131072])\n"
     ]
    },
    {
     "data": {
      "text/plain": [
       "tensor([[0.5288],\n",
       "        [0.5114],\n",
       "        [0.5800],\n",
       "        [0.5399],\n",
       "        [0.5423],\n",
       "        [0.4914],\n",
       "        [0.4976],\n",
       "        [0.5388],\n",
       "        [0.5264],\n",
       "        [0.5245],\n",
       "        [0.5017],\n",
       "        [0.5020],\n",
       "        [0.5283],\n",
       "        [0.5315],\n",
       "        [0.5310],\n",
       "        [0.5033]], grad_fn=<SigmoidBackward0>)"
      ]
     },
     "execution_count": 16,
     "metadata": {},
     "output_type": "execute_result"
    }
   ],
   "source": [
    "class Discriminator(nn.Module):\n",
    "    \"\"\"Height Layer + Image Layer-BN\"\"\"\n",
    "    \n",
    "    def __init__(self):\n",
    "        super(Discriminator, self).__init__()\n",
    "        self.merge = MergeLayer(1, 64)\n",
    "        self.convs = nn.Sequential(\n",
    "            ConvBlock_(128, 64),\n",
    "            ConvBlock_(64, 64, 2),\n",
    "            ConvBlock_(64, 128),\n",
    "            ConvBlock_(128, 128, 2),\n",
    "            ConvBlock_(128, 256),\n",
    "            ConvBlock_(256, 256, 2),\n",
    "            ConvBlock_(256, 512),\n",
    "            ConvBlock_(512, 512, 2)\n",
    "        )\n",
    "        self.fc1 = nn.Linear(512 * 16 * 16, 200)\n",
    "        self.lrelu = nn.LeakyReLU(1e-2)\n",
    "        self.fc2 = nn.Linear(200, 1)\n",
    "        self.sigmoid = nn.Sigmoid()\n",
    "        \n",
    "    def forward(self, x_h, x_i):\n",
    "        merged = self.merge(x_h, x_i)\n",
    "        print(merged.shape)\n",
    "        output = self.convs(merged)\n",
    "        \n",
    "        output = output.view(-1, 512 * 16 * 16)\n",
    "        print(output.shape)\n",
    "        vector1 = self.fc1(output)\n",
    "        relu = self.lrelu(vector1)\n",
    "        vector2 = self.fc2(relu)\n",
    "        scalar = self.sigmoid(vector2)\n",
    "        return scalar\n",
    "    \n",
    "input1 = torch.randn(16, 1, 256, 256)\n",
    "input2 = torch.randn(16, 1, 256, 256)\n",
    "dis = Discriminator()\n",
    "output = dis(input1, input2)\n",
    "output"
   ]
  },
  {
   "cell_type": "code",
   "execution_count": null,
   "id": "f96447f8",
   "metadata": {},
   "outputs": [],
   "source": []
  }
 ],
 "metadata": {
  "kernelspec": {
   "display_name": "Python 3 (ipykernel)",
   "language": "python",
   "name": "python3"
  },
  "language_info": {
   "codemirror_mode": {
    "name": "ipython",
    "version": 3
   },
   "file_extension": ".py",
   "mimetype": "text/x-python",
   "name": "python",
   "nbconvert_exporter": "python",
   "pygments_lexer": "ipython3",
   "version": "3.8.10"
  }
 },
 "nbformat": 4,
 "nbformat_minor": 5
}
